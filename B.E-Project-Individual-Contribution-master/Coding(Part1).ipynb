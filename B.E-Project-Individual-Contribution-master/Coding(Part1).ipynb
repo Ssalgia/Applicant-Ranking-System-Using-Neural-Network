{
 "cells": [
  {
   "cell_type": "code",
   "execution_count": 17,
   "metadata": {},
   "outputs": [],
   "source": [
    "import json\n",
    "import re"
   ]
  },
  {
   "cell_type": "code",
   "execution_count": null,
   "metadata": {},
   "outputs": [],
   "source": [
    "basics = ['abstraction','encapsulation','inheritance','polymorphism','string handling','multithreading','access modifiers','exception handling','generics']\n",
    "advanced = ['servlet','hibernate','struts','SOAP','REST','MVC','ORM','AOP','JSP','JDBC']"
   ]
  },
  {
   "cell_type": "code",
   "execution_count": 8,
   "metadata": {},
   "outputs": [
    {
     "data": {
      "text/html": [
       "<div>\n",
       "<style scoped>\n",
       "    .dataframe tbody tr th:only-of-type {\n",
       "        vertical-align: middle;\n",
       "    }\n",
       "\n",
       "    .dataframe tbody tr th {\n",
       "        vertical-align: top;\n",
       "    }\n",
       "\n",
       "    .dataframe thead th {\n",
       "        text-align: right;\n",
       "    }\n",
       "</style>\n",
       "<table border=\"1\" class=\"dataframe\">\n",
       "  <thead>\n",
       "    <tr style=\"text-align: right;\">\n",
       "      <th></th>\n",
       "      <th>Description</th>\n",
       "      <th>Experience</th>\n",
       "      <th>Name</th>\n",
       "      <th>Qualification</th>\n",
       "      <th>Speciality</th>\n",
       "    </tr>\n",
       "  </thead>\n",
       "  <tbody>\n",
       "    <tr>\n",
       "      <th>0</th>\n",
       "      <td>I have worked on ORM,ASP and Hibernate.</td>\n",
       "      <td>2</td>\n",
       "      <td>Amit Kumar</td>\n",
       "      <td>B.E</td>\n",
       "      <td>Java</td>\n",
       "    </tr>\n",
       "    <tr>\n",
       "      <th>1</th>\n",
       "      <td>I have learned SOAP and REST frameworks.</td>\n",
       "      <td>1</td>\n",
       "      <td>Neha Sharma</td>\n",
       "      <td>B.E</td>\n",
       "      <td>Java</td>\n",
       "    </tr>\n",
       "    <tr>\n",
       "      <th>2</th>\n",
       "      <td>I have learned Keras and Seaborn.</td>\n",
       "      <td>2</td>\n",
       "      <td>Kishor Kumar</td>\n",
       "      <td>B.E</td>\n",
       "      <td>Python</td>\n",
       "    </tr>\n",
       "    <tr>\n",
       "      <th>3</th>\n",
       "      <td>I have worked on Hibernate.</td>\n",
       "      <td>2</td>\n",
       "      <td>Vishal Singh</td>\n",
       "      <td>B.E</td>\n",
       "      <td>Java</td>\n",
       "    </tr>\n",
       "    <tr>\n",
       "      <th>4</th>\n",
       "      <td>I have worked on ORM,ASP,Hibernate and Servlet.</td>\n",
       "      <td>2</td>\n",
       "      <td>Pooja Ingle</td>\n",
       "      <td>B.E</td>\n",
       "      <td>java</td>\n",
       "    </tr>\n",
       "  </tbody>\n",
       "</table>\n",
       "</div>"
      ],
      "text/plain": [
       "                                       Description  Experience          Name  \\\n",
       "0          I have worked on ORM,ASP and Hibernate.           2    Amit Kumar   \n",
       "1         I have learned SOAP and REST frameworks.           1   Neha Sharma   \n",
       "2                I have learned Keras and Seaborn.           2  Kishor Kumar   \n",
       "3                      I have worked on Hibernate.           2  Vishal Singh   \n",
       "4  I have worked on ORM,ASP,Hibernate and Servlet.           2   Pooja Ingle   \n",
       "\n",
       "  Qualification Speciality  \n",
       "0           B.E       Java  \n",
       "1           B.E       Java  \n",
       "2           B.E     Python  \n",
       "3           B.E       Java  \n",
       "4           B.E       java  "
      ]
     },
     "execution_count": 8,
     "metadata": {},
     "output_type": "execute_result"
    }
   ],
   "source": [
    "import pandas as pd\n",
    "data=pd.read_json(\"/home/dell/Desktop/Datasets Code/cand.json\")\n",
    "data"
   ]
  },
  {
   "cell_type": "code",
   "execution_count": null,
   "metadata": {},
   "outputs": [],
   "source": [
    "def comp:\n",
    "    for i in range:\n",
    "        if(Speciality[i]=='Java'||'java'):\n",
    "            s=Description[i]\n",
    "            for line in s:\n",
    "                for word in basics:\n",
    "                    match=re.findall(word,line['body'])\n",
    "                    print(match)"
   ]
  },
  {
   "cell_type": "code",
   "execution_count": 19,
   "metadata": {},
   "outputs": [],
   "source": [
    "rank1=0\n",
    "def finding(basics):\n",
    "     with open(\"cand.json\",\"rb\") as f:\n",
    "        data = json.load(f)\n",
    "        for line in data:\n",
    "            for word in basics:\n",
    "                match = re.findall(word,line['body'])\n",
    "                if match:\n",
    "                    rank1+=1\n",
    "                    print(rank1)"
   ]
  },
  {
   "cell_type": "code",
   "execution_count": 18,
   "metadata": {},
   "outputs": [],
   "source": [
    "rank2=0\n",
    "def finding(advanced):\n",
    "     with open(\"cand.json\",\"rb\") as f:\n",
    "        data = json.load(f)\n",
    "        for line in data:\n",
    "            for word in advanced:\n",
    "                match = re.findall(word,line['body'])\n",
    "                if match:\n",
    "                    rank2+=2\n",
    "            print(rank2)"
   ]
  },
  {
   "cell_type": "code",
   "execution_count": 20,
   "metadata": {},
   "outputs": [
    {
     "name": "stdout",
     "output_type": "stream",
     "text": [
      "0\n"
     ]
    }
   ],
   "source": [
    "print(rank1+rank2)"
   ]
  },
  {
   "cell_type": "code",
   "execution_count": null,
   "metadata": {},
   "outputs": [],
   "source": []
  }
 ],
 "metadata": {
  "kernelspec": {
   "display_name": "Python 3",
   "language": "python",
   "name": "python3"
  },
  "language_info": {
   "codemirror_mode": {
    "name": "ipython",
    "version": 3
   },
   "file_extension": ".py",
   "mimetype": "text/x-python",
   "name": "python",
   "nbconvert_exporter": "python",
   "pygments_lexer": "ipython3",
   "version": "3.7.0"
  }
 },
 "nbformat": 4,
 "nbformat_minor": 2
}
